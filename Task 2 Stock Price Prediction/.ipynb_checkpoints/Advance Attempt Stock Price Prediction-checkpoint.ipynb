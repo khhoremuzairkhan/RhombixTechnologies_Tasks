{
 "cells": [
  {
   "cell_type": "code",
   "execution_count": 10,
   "id": "3d5b1538-ae9e-449a-ae04-dbb40a97b604",
   "metadata": {},
   "outputs": [
    {
     "name": "stdout",
     "output_type": "stream",
     "text": [
      "Defaulting to user installation because normal site-packages is not writeable\n",
      "Collecting mplfinance\n",
      "  Downloading mplfinance-0.12.10b0-py3-none-any.whl.metadata (19 kB)\n",
      "Requirement already satisfied: matplotlib in c:\\programdata\\anaconda3\\lib\\site-packages (from mplfinance) (3.8.4)\n",
      "Requirement already satisfied: pandas in c:\\programdata\\anaconda3\\lib\\site-packages (from mplfinance) (2.2.2)\n",
      "Requirement already satisfied: contourpy>=1.0.1 in c:\\programdata\\anaconda3\\lib\\site-packages (from matplotlib->mplfinance) (1.2.0)\n",
      "Requirement already satisfied: cycler>=0.10 in c:\\programdata\\anaconda3\\lib\\site-packages (from matplotlib->mplfinance) (0.11.0)\n",
      "Requirement already satisfied: fonttools>=4.22.0 in c:\\programdata\\anaconda3\\lib\\site-packages (from matplotlib->mplfinance) (4.51.0)\n",
      "Requirement already satisfied: kiwisolver>=1.3.1 in c:\\programdata\\anaconda3\\lib\\site-packages (from matplotlib->mplfinance) (1.4.4)\n",
      "Requirement already satisfied: numpy>=1.21 in c:\\programdata\\anaconda3\\lib\\site-packages (from matplotlib->mplfinance) (1.26.4)\n",
      "Requirement already satisfied: packaging>=20.0 in c:\\programdata\\anaconda3\\lib\\site-packages (from matplotlib->mplfinance) (23.2)\n",
      "Requirement already satisfied: pillow>=8 in c:\\programdata\\anaconda3\\lib\\site-packages (from matplotlib->mplfinance) (10.3.0)\n",
      "Requirement already satisfied: pyparsing>=2.3.1 in c:\\programdata\\anaconda3\\lib\\site-packages (from matplotlib->mplfinance) (3.0.9)\n",
      "Requirement already satisfied: python-dateutil>=2.7 in c:\\programdata\\anaconda3\\lib\\site-packages (from matplotlib->mplfinance) (2.9.0.post0)\n",
      "Requirement already satisfied: pytz>=2020.1 in c:\\programdata\\anaconda3\\lib\\site-packages (from pandas->mplfinance) (2024.1)\n",
      "Requirement already satisfied: tzdata>=2022.7 in c:\\programdata\\anaconda3\\lib\\site-packages (from pandas->mplfinance) (2023.3)\n",
      "Requirement already satisfied: six>=1.5 in c:\\programdata\\anaconda3\\lib\\site-packages (from python-dateutil>=2.7->matplotlib->mplfinance) (1.16.0)\n",
      "Downloading mplfinance-0.12.10b0-py3-none-any.whl (75 kB)\n",
      "Installing collected packages: mplfinance\n",
      "Successfully installed mplfinance-0.12.10b0\n"
     ]
    }
   ],
   "source": [
    "#pip install yfinance\n",
    "!pip install mplfinance"
   ]
  },
  {
   "cell_type": "code",
   "execution_count": 13,
   "id": "cb85c448-33d2-419d-8d39-35d7c70fbfc7",
   "metadata": {},
   "outputs": [],
   "source": [
    "import yfinance as yf\n",
    "import pandas as pd\n",
    "import numpy as np\n",
    "import matplotlib.pyplot as plt\n",
    "from sklearn.preprocessing import MinMaxScaler\n",
    "from tensorflow.keras.models import Sequential\n",
    "from tensorflow.keras.layers import LSTM, Dense, Dropout\n",
    "import mplfinance as mpf\n",
    "import datetime"
   ]
  },
  {
   "cell_type": "code",
   "execution_count": 22,
   "id": "e3c193c4-3349-4868-8791-a71835eac0ac",
   "metadata": {},
   "outputs": [
    {
     "name": "stderr",
     "output_type": "stream",
     "text": [
      "[*********************100%***********************]  1 of 1 completed\n"
     ]
    }
   ],
   "source": [
    "ticker = 'AAPL'  # Apple's stock ticker\n",
    "stock_data = yf.download(ticker, start='2015-01-01', end=None)"
   ]
  },
  {
   "cell_type": "code",
   "execution_count": 23,
   "id": "e2ea7b47-974b-420e-8c75-0ea048268aab",
   "metadata": {},
   "outputs": [
    {
     "data": {
      "text/html": [
       "<div>\n",
       "<style scoped>\n",
       "    .dataframe tbody tr th:only-of-type {\n",
       "        vertical-align: middle;\n",
       "    }\n",
       "\n",
       "    .dataframe tbody tr th {\n",
       "        vertical-align: top;\n",
       "    }\n",
       "\n",
       "    .dataframe thead th {\n",
       "        text-align: right;\n",
       "    }\n",
       "</style>\n",
       "<table border=\"1\" class=\"dataframe\">\n",
       "  <thead>\n",
       "    <tr style=\"text-align: right;\">\n",
       "      <th></th>\n",
       "      <th>Open</th>\n",
       "      <th>High</th>\n",
       "      <th>Low</th>\n",
       "      <th>Close</th>\n",
       "      <th>Adj Close</th>\n",
       "      <th>Volume</th>\n",
       "    </tr>\n",
       "    <tr>\n",
       "      <th>Date</th>\n",
       "      <th></th>\n",
       "      <th></th>\n",
       "      <th></th>\n",
       "      <th></th>\n",
       "      <th></th>\n",
       "      <th></th>\n",
       "    </tr>\n",
       "  </thead>\n",
       "  <tbody>\n",
       "    <tr>\n",
       "      <th>2024-10-15</th>\n",
       "      <td>233.610001</td>\n",
       "      <td>237.490005</td>\n",
       "      <td>232.369995</td>\n",
       "      <td>233.850006</td>\n",
       "      <td>233.850006</td>\n",
       "      <td>64751400</td>\n",
       "    </tr>\n",
       "    <tr>\n",
       "      <th>2024-10-16</th>\n",
       "      <td>231.600006</td>\n",
       "      <td>232.119995</td>\n",
       "      <td>229.839996</td>\n",
       "      <td>231.779999</td>\n",
       "      <td>231.779999</td>\n",
       "      <td>34082200</td>\n",
       "    </tr>\n",
       "    <tr>\n",
       "      <th>2024-10-17</th>\n",
       "      <td>233.429993</td>\n",
       "      <td>233.850006</td>\n",
       "      <td>230.520004</td>\n",
       "      <td>232.149994</td>\n",
       "      <td>232.149994</td>\n",
       "      <td>32993800</td>\n",
       "    </tr>\n",
       "    <tr>\n",
       "      <th>2024-10-18</th>\n",
       "      <td>236.179993</td>\n",
       "      <td>236.179993</td>\n",
       "      <td>234.009995</td>\n",
       "      <td>235.000000</td>\n",
       "      <td>235.000000</td>\n",
       "      <td>46431500</td>\n",
       "    </tr>\n",
       "    <tr>\n",
       "      <th>2024-10-21</th>\n",
       "      <td>234.449997</td>\n",
       "      <td>236.850006</td>\n",
       "      <td>234.449997</td>\n",
       "      <td>236.479996</td>\n",
       "      <td>236.479996</td>\n",
       "      <td>36220800</td>\n",
       "    </tr>\n",
       "  </tbody>\n",
       "</table>\n",
       "</div>"
      ],
      "text/plain": [
       "                  Open        High         Low       Close   Adj Close  \\\n",
       "Date                                                                     \n",
       "2024-10-15  233.610001  237.490005  232.369995  233.850006  233.850006   \n",
       "2024-10-16  231.600006  232.119995  229.839996  231.779999  231.779999   \n",
       "2024-10-17  233.429993  233.850006  230.520004  232.149994  232.149994   \n",
       "2024-10-18  236.179993  236.179993  234.009995  235.000000  235.000000   \n",
       "2024-10-21  234.449997  236.850006  234.449997  236.479996  236.479996   \n",
       "\n",
       "              Volume  \n",
       "Date                  \n",
       "2024-10-15  64751400  \n",
       "2024-10-16  34082200  \n",
       "2024-10-17  32993800  \n",
       "2024-10-18  46431500  \n",
       "2024-10-21  36220800  "
      ]
     },
     "execution_count": 23,
     "metadata": {},
     "output_type": "execute_result"
    }
   ],
   "source": [
    "stock_data.tail()"
   ]
  },
  {
   "cell_type": "code",
   "execution_count": 16,
   "id": "c6775c45-9146-4fea-987f-24e39b107d9f",
   "metadata": {},
   "outputs": [
    {
     "name": "stderr",
     "output_type": "stream",
     "text": [
      "C:\\Users\\DELL\\AppData\\Roaming\\Python\\Python312\\site-packages\\mplfinance\\_arg_validators.py:84: UserWarning: \n",
      "\n",
      " ================================================================= \n",
      "\n",
      "   WARNING: YOU ARE PLOTTING SO MUCH DATA THAT IT MAY NOT BE\n",
      "            POSSIBLE TO SEE DETAILS (Candles, Ohlc-Bars, Etc.)\n",
      "   For more information see:\n",
      "   - https://github.com/matplotlib/mplfinance/wiki/Plotting-Too-Much-Data\n",
      "   \n",
      "   TO SILENCE THIS WARNING, set `type='line'` in `mpf.plot()`\n",
      "   OR set kwarg `warn_too_much_data=N` where N is an integer \n",
      "   LARGER than the number of data points you want to plot.\n",
      "\n",
      " ================================================================ \n",
      "  warnings.warn('\\n\\n ================================================================= '+\n"
     ]
    },
    {
     "data": {
      "image/png": "[encoded data removed]",
      "text/plain": [
       "<Figure size 800x575 with 4 Axes>"
      ]
     },
     "metadata": {},
     "output_type": "display_data"
    }
   ],
   "source": [
    "mpf.plot(stock_data, type='candle', style='charles', volume=True, title='Apple Inc. (AAPL) Stock Price', ylabel='Price', ylabel_lower='Volume', show_nontrading=False)"
   ]
  },
  {
   "cell_type": "code",
   "execution_count": 30,
   "id": "5227bfe8-274c-4ec1-9dfd-b56b78091622",
   "metadata": {},
   "outputs": [
    {
     "data": {
      "text/html": [
       "<div>\n",
       "<style scoped>\n",
       "    .dataframe tbody tr th:only-of-type {\n",
       "        vertical-align: middle;\n",
       "    }\n",
       "\n",
       "    .dataframe tbody tr th {\n",
       "        vertical-align: top;\n",
       "    }\n",
       "\n",
       "    .dataframe thead th {\n",
       "        text-align: right;\n",
       "    }\n",
       "</style>\n",
       "<table border=\"1\" class=\"dataframe\">\n",
       "  <thead>\n",
       "    <tr style=\"text-align: right;\">\n",
       "      <th></th>\n",
       "      <th>Open</th>\n",
       "      <th>High</th>\n",
       "      <th>Low</th>\n",
       "      <th>Close</th>\n",
       "      <th>Volume</th>\n",
       "    </tr>\n",
       "    <tr>\n",
       "      <th>Date</th>\n",
       "      <th></th>\n",
       "      <th></th>\n",
       "      <th></th>\n",
       "      <th></th>\n",
       "      <th></th>\n",
       "    </tr>\n",
       "  </thead>\n",
       "  <tbody>\n",
       "    <tr>\n",
       "      <th>2015-01-02</th>\n",
       "      <td>27.847500</td>\n",
       "      <td>27.860001</td>\n",
       "      <td>26.837500</td>\n",
       "      <td>27.332500</td>\n",
       "      <td>212818400</td>\n",
       "    </tr>\n",
       "    <tr>\n",
       "      <th>2015-01-05</th>\n",
       "      <td>27.072500</td>\n",
       "      <td>27.162500</td>\n",
       "      <td>26.352501</td>\n",
       "      <td>26.562500</td>\n",
       "      <td>257142000</td>\n",
       "    </tr>\n",
       "    <tr>\n",
       "      <th>2015-01-06</th>\n",
       "      <td>26.635000</td>\n",
       "      <td>26.857500</td>\n",
       "      <td>26.157499</td>\n",
       "      <td>26.565001</td>\n",
       "      <td>263188400</td>\n",
       "    </tr>\n",
       "    <tr>\n",
       "      <th>2015-01-07</th>\n",
       "      <td>26.799999</td>\n",
       "      <td>27.049999</td>\n",
       "      <td>26.674999</td>\n",
       "      <td>26.937500</td>\n",
       "      <td>160423600</td>\n",
       "    </tr>\n",
       "    <tr>\n",
       "      <th>2015-01-08</th>\n",
       "      <td>27.307501</td>\n",
       "      <td>28.037500</td>\n",
       "      <td>27.174999</td>\n",
       "      <td>27.972500</td>\n",
       "      <td>237458000</td>\n",
       "    </tr>\n",
       "  </tbody>\n",
       "</table>\n",
       "</div>"
      ],
      "text/plain": [
       "                 Open       High        Low      Close     Volume\n",
       "Date                                                             \n",
       "2015-01-02  27.847500  27.860001  26.837500  27.332500  212818400\n",
       "2015-01-05  27.072500  27.162500  26.352501  26.562500  257142000\n",
       "2015-01-06  26.635000  26.857500  26.157499  26.565001  263188400\n",
       "2015-01-07  26.799999  27.049999  26.674999  26.937500  160423600\n",
       "2015-01-08  27.307501  28.037500  27.174999  27.972500  237458000"
      ]
     },
     "execution_count": 30,
     "metadata": {},
     "output_type": "execute_result"
    }
   ],
   "source": [
    "data = stock_data.drop(columns=['Adj Close'], inplace=False)\n",
    "data.head()"
   ]
  },
  {
   "cell_type": "code",
   "execution_count": 36,
   "id": "47385eee-4c38-496c-ac62-6beae1da4b7d",
   "metadata": {},
   "outputs": [
    {
     "data": {
      "text/plain": [
       "(2467, 5)"
      ]
     },
     "execution_count": 36,
     "metadata": {},
     "output_type": "execute_result"
    }
   ],
   "source": [
    "data.shape"
   ]
  },
  {
   "cell_type": "code",
   "execution_count": 31,
   "id": "66f37e99-a6e3-4c79-8d72-1ab2b7d3b57b",
   "metadata": {},
   "outputs": [
    {
     "data": {
      "text/plain": [
       "array([[2.78474998e+01, 2.78600006e+01, 2.68374996e+01, 2.73325005e+01,\n",
       "        2.12818400e+08],\n",
       "       [2.70725002e+01, 2.71625004e+01, 2.63525009e+01, 2.65625000e+01,\n",
       "        2.57142000e+08],\n",
       "       [2.66350002e+01, 2.68575001e+01, 2.61574993e+01, 2.65650005e+01,\n",
       "        2.63188400e+08],\n",
       "       ...,\n",
       "       [2.33429993e+02, 2.33850006e+02, 2.30520004e+02, 2.32149994e+02,\n",
       "        3.29938000e+07],\n",
       "       [2.36179993e+02, 2.36179993e+02, 2.34009995e+02, 2.35000000e+02,\n",
       "        4.64315000e+07],\n",
       "       [2.34449997e+02, 2.36850006e+02, 2.34449997e+02, 2.36479996e+02,\n",
       "        3.62208000e+07]])"
      ]
     },
     "execution_count": 31,
     "metadata": {},
     "output_type": "execute_result"
    }
   ],
   "source": [
    "Numpy_Data = data.to_numpy()\n",
    "Numpy_Data"
   ]
  },
  {
   "cell_type": "code",
   "execution_count": 37,
   "id": "17bf2a93-fcdc-42c0-adcf-ce8fe6c965b3",
   "metadata": {},
   "outputs": [
    {
     "data": {
      "text/plain": [
       "(2467, 5)"
      ]
     },
     "execution_count": 37,
     "metadata": {},
     "output_type": "execute_result"
    }
   ],
   "source": [
    "Numpy_Data.shape"
   ]
  },
  {
   "cell_type": "code",
   "execution_count": 32,
   "id": "aa638b11-6871-4189-884c-5d393cc8d2c5",
   "metadata": {},
   "outputs": [],
   "source": [
    "scaler = MinMaxScaler(feature_range=(0, 1))\n",
    "scaled_data = scaler.fit_transform(Numpy_Data)"
   ]
  },
  {
   "cell_type": "code",
   "execution_count": 33,
   "id": "7d4adda4-9550-4370-98ac-9bf6b8853a86",
   "metadata": {},
   "outputs": [
    {
     "data": {
      "text/plain": [
       "array([[0.02499065, 0.02303418, 0.0210767 , 0.02219548, 0.30214001],\n",
       "       [0.02136882, 0.01978353, 0.01878986, 0.01859558, 0.3730831 ],\n",
       "       [0.01932424, 0.01836209, 0.0178704 , 0.01860727, 0.38276079],\n",
       "       ...,\n",
       "       [0.98574632, 0.98303604, 0.98146951, 0.97975641, 0.01431791],\n",
       "       [0.99859799, 0.99389478, 0.99792532, 0.99308074, 0.03582591],\n",
       "       [0.99051314, 0.99701733, 1.        , 1.        , 0.01948295]])"
      ]
     },
     "execution_count": 33,
     "metadata": {},
     "output_type": "execute_result"
    }
   ],
   "source": [
    "scaled_data"
   ]
  },
  {
   "cell_type": "code",
   "execution_count": 38,
   "id": "48a3a747-3010-46b4-8719-a999df6c3080",
   "metadata": {},
   "outputs": [
    {
     "data": {
      "text/plain": [
       "2467"
      ]
     },
     "execution_count": 38,
     "metadata": {},
     "output_type": "execute_result"
    }
   ],
   "source": [
    "len(scaled_data)"
   ]
  },
  {
   "cell_type": "code",
   "execution_count": 39,
   "id": "f1f45fbb-e53b-44bd-b79e-7b216743f7ad",
   "metadata": {},
   "outputs": [
    {
     "data": {
      "text/plain": [
       "array([[0.02499065, 0.02303418, 0.0210767 , 0.02219548, 0.30214001],\n",
       "       [0.02136882, 0.01978353, 0.01878986, 0.01859558, 0.3730831 ],\n",
       "       [0.01932424, 0.01836209, 0.0178704 , 0.01860727, 0.38276079],\n",
       "       ...,\n",
       "       [0.60323397, 0.60358382, 0.6048236 , 0.6001777 , 0.05817485],\n",
       "       [0.60468269, 0.60251194, 0.60208881, 0.60167373, 0.06628862],\n",
       "       [0.60243951, 0.59957592, 0.60256035, 0.59774658, 0.04957386]])"
      ]
     },
     "execution_count": 39,
     "metadata": {},
     "output_type": "execute_result"
    }
   ],
   "source": [
    "train_size = int(len(scaled_data) * 0.7)  # Use 70% for training\n",
    "train_data = scaled_data[:train_size]\n",
    "test_data = scaled_data[train_size:]\n",
    "train_data"
   ]
  },
  {
   "cell_type": "code",
   "execution_count": 66,
   "id": "9d5e480b-7511-44c4-9ea4-3faab6d9552d",
   "metadata": {},
   "outputs": [],
   "source": [
    "def create_dataset(dataset, time_step=14):\n",
    "    X, y = [], []\n",
    "    for i in range(time_step, len(dataset)):\n",
    "        X.append(dataset[i-time_step:i, 0:5])\n",
    "        y.append(dataset[i, 3]) #predicting only value for closing price\n",
    "    return np.array(X), np.array(y)"
   ]
  },
  {
   "cell_type": "code",
   "execution_count": 67,
   "id": "bc7c9ddd-d9c8-4c65-9757-1978fd2ca211",
   "metadata": {},
   "outputs": [
    {
     "data": {
      "text/plain": [
       "array([[[0.59678474, 0.59892339, 0.60208881, 0.59947638, 0.05240207],\n",
       "        [0.59594358, 0.59286489, 0.59166837, 0.58596508, 0.06584558],\n",
       "        [0.59098986, 0.58960253, 0.59086674, 0.58573131, 0.02713241],\n",
       "        ...,\n",
       "        [0.64608843, 0.64883662, 0.64725992, 0.65151128, 0.07269043],\n",
       "        [0.64057393, 0.64096048, 0.63179424, 0.62752753, 0.08468863],\n",
       "        [0.63963921, 0.64440923, 0.64325201, 0.64356347, 0.10355681]],\n",
       "\n",
       "       [[0.59594358, 0.59286489, 0.59166837, 0.58596508, 0.06584558],\n",
       "        [0.59098986, 0.58960253, 0.59086674, 0.58573131, 0.02713241],\n",
       "        [0.58851292, 0.59412316, 0.58992372, 0.59564276, 0.06363183],\n",
       "        ...,\n",
       "        [0.64057393, 0.64096048, 0.63179424, 0.62752753, 0.08468863],\n",
       "        [0.63963921, 0.64440923, 0.64325201, 0.64356347, 0.10355681],\n",
       "        [0.64253672, 0.6645889 , 0.64858015, 0.66721993, 0.24008538]],\n",
       "\n",
       "       [[0.59098986, 0.58960253, 0.59086674, 0.58573131, 0.02713241],\n",
       "        [0.58851292, 0.59412316, 0.58992372, 0.59564276, 0.06363183],\n",
       "        [0.5975792 , 0.60102064, 0.59911824, 0.59568949, 0.0562993 ],\n",
       "        ...,\n",
       "        [0.63963921, 0.64440923, 0.64325201, 0.64356347, 0.10355681],\n",
       "        [0.64253672, 0.6645889 , 0.64858015, 0.66721993, 0.24008538],\n",
       "        [0.67753995, 0.68686574, 0.67031698, 0.66474208, 0.20487985]],\n",
       "\n",
       "       ...,\n",
       "\n",
       "       [[0.96251991, 0.96285637, 0.96628673, 0.95937258, 0.01597002],\n",
       "        [0.96990372, 0.97907465, 0.97736728, 0.98373035, 0.04880718],\n",
       "        [0.96747363, 0.96346218, 0.94950082, 0.95198584, 0.06280114],\n",
       "        ...,\n",
       "        [0.96364147, 0.97315588, 0.97241644, 0.97578254, 0.02534313],\n",
       "        [0.98658755, 1.        , 0.99019249, 0.9877043 , 0.06514822],\n",
       "        [0.97719418, 0.97497345, 0.97826317, 0.97802662, 0.01605997]],\n",
       "\n",
       "       [[0.96990372, 0.97907465, 0.97736728, 0.98373035, 0.04880718],\n",
       "        [0.96747363, 0.96346218, 0.94950082, 0.95198584, 0.06280114],\n",
       "        [0.95050941, 0.95283641, 0.94610591, 0.95465066, 0.01413673],\n",
       "        ...,\n",
       "        [0.98658755, 1.        , 0.99019249, 0.9877043 , 0.06514822],\n",
       "        [0.97719418, 0.97497345, 0.97826317, 0.97802662, 0.01605997],\n",
       "        [0.98574632, 0.98303604, 0.98146951, 0.97975641, 0.01431791]],\n",
       "\n",
       "       [[0.96747363, 0.96346218, 0.94950082, 0.95198584, 0.06280114],\n",
       "        [0.95050941, 0.95283641, 0.94610591, 0.95465066, 0.01413673],\n",
       "        [0.94700441, 0.95022658, 0.94752047, 0.94946119, 0.01599915],\n",
       "        ...,\n",
       "        [0.97719418, 0.97497345, 0.97826317, 0.97802662, 0.01605997],\n",
       "        [0.98574632, 0.98303604, 0.98146951, 0.97975641, 0.01431791],\n",
       "        [0.99859799, 0.99389478, 0.99792532, 0.99308074, 0.03582591]]])"
      ]
     },
     "execution_count": 67,
     "metadata": {},
     "output_type": "execute_result"
    }
   ],
   "source": [
    "time_step = 14  # Use the past 60 days to predict the next day's price\n",
    "X_train, y_train = create_dataset(train_data, time_step)\n",
    "X_test, y_test = create_dataset(test_data, time_step)\n",
    "X_test"
   ]
  },
  {
   "cell_type": "code",
   "execution_count": 15,
   "id": "5aa5f437-9432-43a5-8e24-69152b15c48d",
   "metadata": {},
   "outputs": [
    {
     "data": {
      "text/plain": [
       "array([[[0.41509066],\n",
       "        [0.41464819],\n",
       "        [0.42022909],\n",
       "        ...,\n",
       "        [0.62062752],\n",
       "        [0.62145535],\n",
       "        [0.63611416]],\n",
       "\n",
       "       [[0.41464819],\n",
       "        [0.42022909],\n",
       "        [0.42235581],\n",
       "        ...,\n",
       "        [0.62145535],\n",
       "        [0.63611416],\n",
       "        [0.6709127 ]],\n",
       "\n",
       "       [[0.42022909],\n",
       "        [0.42235581],\n",
       "        [0.42489647],\n",
       "        ...,\n",
       "        [0.63611416],\n",
       "        [0.6709127 ],\n",
       "        [0.67940534]],\n",
       "\n",
       "       ...,\n",
       "\n",
       "       [[0.77413784],\n",
       "        [0.79497705],\n",
       "        [0.79668979],\n",
       "        ...,\n",
       "        [0.7157882 ],\n",
       "        [0.71367577],\n",
       "        [0.70322764]],\n",
       "\n",
       "       [[0.79497705],\n",
       "        [0.79668979],\n",
       "        [0.7911517 ],\n",
       "        ...,\n",
       "        [0.71367577],\n",
       "        [0.70322764],\n",
       "        [0.68044731]],\n",
       "\n",
       "       [[0.79668979],\n",
       "        [0.7911517 ],\n",
       "        [0.76066376],\n",
       "        ...,\n",
       "        [0.70322764],\n",
       "        [0.68044731],\n",
       "        [0.70082972]]])"
      ]
     },
     "execution_count": 15,
     "metadata": {},
     "output_type": "execute_result"
    }
   ],
   "source": [
    "X_train = X_train.reshape(X_train.shape[0], X_train.shape[1], 1)\n",
    "X_test = X_test.reshape(X_test.shape[0], X_test.shape[1], 1)\n",
    "X_test"
   ]
  },
  {
   "cell_type": "code",
   "execution_count": 71,
   "id": "9b6bdaed-2758-455c-af3e-3ea2a22d02b5",
   "metadata": {},
   "outputs": [
    {
     "data": {
      "text/plain": [
       "(1712, 14, 5)"
      ]
     },
     "execution_count": 71,
     "metadata": {},
     "output_type": "execute_result"
    }
   ],
   "source": [
    "X_train.shape"
   ]
  },
  {
   "cell_type": "code",
   "execution_count": 72,
   "id": "b5b60acf-cc3a-46d1-a8a8-c7b812f1a500",
   "metadata": {},
   "outputs": [
    {
     "data": {
      "text/plain": [
       "(1712,)"
      ]
     },
     "execution_count": 72,
     "metadata": {},
     "output_type": "execute_result"
    }
   ],
   "source": [
    "y_train.shape"
   ]
  },
  {
   "cell_type": "code",
   "execution_count": 73,
   "id": "1f911ab5-fc10-45d6-8101-a3d584c607c4",
   "metadata": {},
   "outputs": [
    {
     "name": "stderr",
     "output_type": "stream",
     "text": [
      "C:\\Users\\DELL\\AppData\\Roaming\\Python\\Python312\\site-packages\\keras\\src\\layers\\rnn\\rnn.py:204: UserWarning: Do not pass an `input_shape`/`input_dim` argument to a layer. When using Sequential models, prefer using an `Input(shape)` object as the first layer in the model instead.\n",
      "  super().__init__(**kwargs)\n"
     ]
    }
   ],
   "source": [
    "model = Sequential()\n",
    "model.add(LSTM(units=70, return_sequences=True, input_shape=(X_train.shape[1], X_train.shape[2])))\n",
    "model.add(Dropout(0.2))\n",
    "model.add(LSTM(units=70, return_sequences=False))\n",
    "model.add(Dropout(0.2))\n",
    "model.add(Dense(units=1))  # Predicting the next price\n"
   ]
  },
  {
   "cell_type": "code",
   "execution_count": 74,
   "id": "b3745075-fd4b-45fa-b71f-734c7ce71b1d",
   "metadata": {},
   "outputs": [
    {
     "name": "stdout",
     "output_type": "stream",
     "text": [
      "Epoch 1/20\n",
      "\u001b[1m54/54\u001b[0m \u001b[32m━━━━━━━━━━━━━━━━━━━━\u001b[0m\u001b[37m\u001b[0m \u001b[1m5s\u001b[0m 11ms/step - loss: 0.0135\n",
      "Epoch 2/20\n",
      "\u001b[1m54/54\u001b[0m \u001b[32m━━━━━━━━━━━━━━━━━━━━\u001b[0m\u001b[37m\u001b[0m \u001b[1m1s\u001b[0m 11ms/step - loss: 7.1870e-04\n",
      "Epoch 3/20\n",
      "\u001b[1m54/54\u001b[0m \u001b[32m━━━━━━━━━━━━━━━━━━━━\u001b[0m\u001b[37m\u001b[0m \u001b[1m1s\u001b[0m 10ms/step - loss: 6.1525e-04\n",
      "Epoch 4/20\n",
      "\u001b[1m54/54\u001b[0m \u001b[32m━━━━━━━━━━━━━━━━━━━━\u001b[0m\u001b[37m\u001b[0m \u001b[1m1s\u001b[0m 10ms/step - loss: 4.6865e-04\n",
      "Epoch 5/20\n",
      "\u001b[1m54/54\u001b[0m \u001b[32m━━━━━━━━━━━━━━━━━━━━\u001b[0m\u001b[37m\u001b[0m \u001b[1m1s\u001b[0m 10ms/step - loss: 5.7882e-04\n",
      "Epoch 6/20\n",
      "\u001b[1m54/54\u001b[0m \u001b[32m━━━━━━━━━━━━━━━━━━━━\u001b[0m\u001b[37m\u001b[0m \u001b[1m1s\u001b[0m 10ms/step - loss: 5.0370e-04\n",
      "Epoch 7/20\n",
      "\u001b[1m54/54\u001b[0m \u001b[32m━━━━━━━━━━━━━━━━━━━━\u001b[0m\u001b[37m\u001b[0m \u001b[1m1s\u001b[0m 10ms/step - loss: 5.4336e-04\n",
      "Epoch 8/20\n",
      "\u001b[1m54/54\u001b[0m \u001b[32m━━━━━━━━━━━━━━━━━━━━\u001b[0m\u001b[37m\u001b[0m \u001b[1m1s\u001b[0m 11ms/step - loss: 5.4428e-04\n",
      "Epoch 9/20\n",
      "\u001b[1m54/54\u001b[0m \u001b[32m━━━━━━━━━━━━━━━━━━━━\u001b[0m\u001b[37m\u001b[0m \u001b[1m1s\u001b[0m 10ms/step - loss: 4.9704e-04\n",
      "Epoch 10/20\n",
      "\u001b[1m54/54\u001b[0m \u001b[32m━━━━━━━━━━━━━━━━━━━━\u001b[0m\u001b[37m\u001b[0m \u001b[1m1s\u001b[0m 11ms/step - loss: 5.4791e-04\n",
      "Epoch 11/20\n",
      "\u001b[1m54/54\u001b[0m \u001b[32m━━━━━━━━━━━━━━━━━━━━\u001b[0m\u001b[37m\u001b[0m \u001b[1m1s\u001b[0m 11ms/step - loss: 4.4029e-04\n",
      "Epoch 12/20\n",
      "\u001b[1m54/54\u001b[0m \u001b[32m━━━━━━━━━━━━━━━━━━━━\u001b[0m\u001b[37m\u001b[0m \u001b[1m1s\u001b[0m 11ms/step - loss: 5.0958e-04\n",
      "Epoch 13/20\n",
      "\u001b[1m54/54\u001b[0m \u001b[32m━━━━━━━━━━━━━━━━━━━━\u001b[0m\u001b[37m\u001b[0m \u001b[1m1s\u001b[0m 11ms/step - loss: 4.9264e-04\n",
      "Epoch 14/20\n",
      "\u001b[1m54/54\u001b[0m \u001b[32m━━━━━━━━━━━━━━━━━━━━\u001b[0m\u001b[37m\u001b[0m \u001b[1m1s\u001b[0m 10ms/step - loss: 4.8104e-04\n",
      "Epoch 15/20\n",
      "\u001b[1m54/54\u001b[0m \u001b[32m━━━━━━━━━━━━━━━━━━━━\u001b[0m\u001b[37m\u001b[0m \u001b[1m1s\u001b[0m 9ms/step - loss: 4.7422e-04\n",
      "Epoch 16/20\n",
      "\u001b[1m54/54\u001b[0m \u001b[32m━━━━━━━━━━━━━━━━━━━━\u001b[0m\u001b[37m\u001b[0m \u001b[1m1s\u001b[0m 11ms/step - loss: 4.9914e-04\n",
      "Epoch 17/20\n",
      "\u001b[1m54/54\u001b[0m \u001b[32m━━━━━━━━━━━━━━━━━━━━\u001b[0m\u001b[37m\u001b[0m \u001b[1m1s\u001b[0m 11ms/step - loss: 3.7836e-04\n",
      "Epoch 18/20\n",
      "\u001b[1m54/54\u001b[0m \u001b[32m━━━━━━━━━━━━━━━━━━━━\u001b[0m\u001b[37m\u001b[0m \u001b[1m1s\u001b[0m 11ms/step - loss: 3.9228e-04\n",
      "Epoch 19/20\n",
      "\u001b[1m54/54\u001b[0m \u001b[32m━━━━━━━━━━━━━━━━━━━━\u001b[0m\u001b[37m\u001b[0m \u001b[1m1s\u001b[0m 11ms/step - loss: 3.5965e-04\n",
      "Epoch 20/20\n",
      "\u001b[1m54/54\u001b[0m \u001b[32m━━━━━━━━━━━━━━━━━━━━\u001b[0m\u001b[37m\u001b[0m \u001b[1m1s\u001b[0m 11ms/step - loss: 3.5350e-04\n"
     ]
    },
    {
     "data": {
      "text/plain": [
       "<keras.src.callbacks.history.History at 0x13ca850fbf0>"
      ]
     },
     "execution_count": 74,
     "metadata": {},
     "output_type": "execute_result"
    }
   ],
   "source": [
    "model.compile(optimizer='adam', loss='mean_squared_error')\n",
    "model.fit(X_train, y_train, epochs=20, batch_size=32)"
   ]
  },
  {
   "cell_type": "code",
   "execution_count": 78,
   "id": "7d879af1-86fd-4020-8411-69db76165071",
   "metadata": {},
   "outputs": [
    {
     "name": "stdout",
     "output_type": "stream",
     "text": [
      "\u001b[1m54/54\u001b[0m \u001b[32m━━━━━━━━━━━━━━━━━━━━\u001b[0m\u001b[37m\u001b[0m \u001b[1m0s\u001b[0m 4ms/step\n",
      "\u001b[1m23/23\u001b[0m \u001b[32m━━━━━━━━━━━━━━━━━━━━\u001b[0m\u001b[37m\u001b[0m \u001b[1m0s\u001b[0m 4ms/step\n"
     ]
    }
   ],
   "source": [
    "train_predict = model.predict(X_train)\n",
    "test_predict = model.predict(X_test)\n"
   ]
  },
  {
   "cell_type": "code",
   "execution_count": 79,
   "id": "72254df4-2b43-42e3-8adc-14f585cf08e9",
   "metadata": {},
   "outputs": [
    {
     "data": {
      "text/plain": [
       "(1712, 1)"
      ]
     },
     "execution_count": 79,
     "metadata": {},
     "output_type": "execute_result"
    }
   ],
   "source": [
    "train_predict.shape"
   ]
  },
  {
   "cell_type": "code",
   "execution_count": 80,
   "id": "1a24c8fc-6145-4f71-ab14-e47f406da90b",
   "metadata": {},
   "outputs": [],
   "source": [
    "# For train_predict\n",
    "train_predict_reshaped = np.zeros((train_predict.shape[0], 5))  # Create an array with 5 features\n",
    "train_predict_reshaped[:, 3] = train_predict.flatten()  #  'Close' is at index 3\n",
    "\n",
    "# For test_predict\n",
    "test_predict_reshaped = np.zeros((test_predict.shape[0], 5))  # Same for test predictions\n",
    "test_predict_reshaped[:, 3] = test_predict.flatten()  #'Close' is at index 3\n",
    "\n",
    "# Now inverse transform\n",
    "train_predict_inverse = scaler.inverse_transform(train_predict_reshaped)\n",
    "test_predict_inverse = scaler.inverse_transform(test_predict_reshaped)"
   ]
  },
  {
   "cell_type": "code",
   "execution_count": 83,
   "id": "34a39c74-c8f5-41dd-8966-a2d1ee02b8c5",
   "metadata": {},
   "outputs": [
    {
     "data": {
      "text/plain": [
       "array([ 27.33250046,  26.5625    ,  26.56500053, ..., 232.1499939 ,\n",
       "       235.        , 236.47999573])"
      ]
     },
     "execution_count": 83,
     "metadata": {},
     "output_type": "execute_result"
    }
   ],
   "source": [
    "train_predict_plotting = train_predict_inverse[:,3]\n",
    "test_predict_plotting = test_predict_inverse[:,3]\n",
    "actual_price_plotting = Numpy_Data[:,3]\n",
    "actual_price_plotting"
   ]
  },
  {
   "cell_type": "code",
   "execution_count": 76,
   "id": "df8e3fbe-a08e-4e61-8e89-c9603a4fa62d",
   "metadata": {},
   "outputs": [
    {
     "ename": "ValueError",
     "evalue": "non-broadcastable output operand with shape (1712,1) doesn't match the broadcast shape (1712,5)",
     "output_type": "error",
     "traceback": [
      "\u001b[1;31m---------------------------------------------------------------------------\u001b[0m",
      "\u001b[1;31mValueError\u001b[0m                                Traceback (most recent call last)",
      "Cell \u001b[1;32mIn[76], line 1\u001b[0m\n\u001b[1;32m----> 1\u001b[0m train_predict \u001b[38;5;241m=\u001b[39m scaler\u001b[38;5;241m.\u001b[39minverse_transform(train_predict)\n\u001b[0;32m      2\u001b[0m test_predict \u001b[38;5;241m=\u001b[39m scaler\u001b[38;5;241m.\u001b[39minverse_transform(test_predict)\n\u001b[0;32m      3\u001b[0m actual_test_prices \u001b[38;5;241m=\u001b[39m scaler\u001b[38;5;241m.\u001b[39minverse_transform(y_test\u001b[38;5;241m.\u001b[39mreshape(\u001b[38;5;241m-\u001b[39m\u001b[38;5;241m1\u001b[39m, \u001b[38;5;241m1\u001b[39m))\n",
      "File \u001b[1;32mC:\\ProgramData\\anaconda3\\Lib\\site-packages\\sklearn\\preprocessing\\_data.py:572\u001b[0m, in \u001b[0;36mMinMaxScaler.inverse_transform\u001b[1;34m(self, X)\u001b[0m\n\u001b[0;32m    563\u001b[0m xp, _ \u001b[38;5;241m=\u001b[39m get_namespace(X)\n\u001b[0;32m    565\u001b[0m X \u001b[38;5;241m=\u001b[39m check_array(\n\u001b[0;32m    566\u001b[0m     X,\n\u001b[0;32m    567\u001b[0m     copy\u001b[38;5;241m=\u001b[39m\u001b[38;5;28mself\u001b[39m\u001b[38;5;241m.\u001b[39mcopy,\n\u001b[0;32m    568\u001b[0m     dtype\u001b[38;5;241m=\u001b[39m_array_api\u001b[38;5;241m.\u001b[39msupported_float_dtypes(xp),\n\u001b[0;32m    569\u001b[0m     force_all_finite\u001b[38;5;241m=\u001b[39m\u001b[38;5;124m\"\u001b[39m\u001b[38;5;124mallow-nan\u001b[39m\u001b[38;5;124m\"\u001b[39m,\n\u001b[0;32m    570\u001b[0m )\n\u001b[1;32m--> 572\u001b[0m X \u001b[38;5;241m-\u001b[39m\u001b[38;5;241m=\u001b[39m \u001b[38;5;28mself\u001b[39m\u001b[38;5;241m.\u001b[39mmin_\n\u001b[0;32m    573\u001b[0m X \u001b[38;5;241m/\u001b[39m\u001b[38;5;241m=\u001b[39m \u001b[38;5;28mself\u001b[39m\u001b[38;5;241m.\u001b[39mscale_\n\u001b[0;32m    574\u001b[0m \u001b[38;5;28;01mreturn\u001b[39;00m X\n",
      "\u001b[1;31mValueError\u001b[0m: non-broadcastable output operand with shape (1712,1) doesn't match the broadcast shape (1712,5)"
     ]
    }
   ],
   "source": [
    "train_predict = scaler.inverse_transform(train_predict)\n",
    "test_predict = scaler.inverse_transform(test_predict)\n",
    "actual_test_prices = scaler.inverse_transform(y_test.reshape(-1, 1))"
   ]
  },
  {
   "cell_type": "code",
   "execution_count": 77,
   "id": "3ca7e5da-82f5-4be2-a5d5-6ba66cdb0eed",
   "metadata": {},
   "outputs": [
    {
     "ename": "NameError",
     "evalue": "name 'actual_test_prices' is not defined",
     "output_type": "error",
     "traceback": [
      "\u001b[1;31m---------------------------------------------------------------------------\u001b[0m",
      "\u001b[1;31mNameError\u001b[0m                                 Traceback (most recent call last)",
      "Cell \u001b[1;32mIn[77], line 3\u001b[0m\n\u001b[0;32m      1\u001b[0m plt\u001b[38;5;241m.\u001b[39mfigure(figsize\u001b[38;5;241m=\u001b[39m(\u001b[38;5;241m12\u001b[39m, \u001b[38;5;241m6\u001b[39m))\n\u001b[0;32m      2\u001b[0m plt\u001b[38;5;241m.\u001b[39mplot(stock_data\u001b[38;5;241m.\u001b[39mindex[\u001b[38;5;28mlen\u001b[39m(train_predict) \u001b[38;5;241m+\u001b[39m time_step:\u001b[38;5;28mlen\u001b[39m(train_predict) \u001b[38;5;241m+\u001b[39m time_step \u001b[38;5;241m+\u001b[39m \u001b[38;5;28mlen\u001b[39m(test_predict)],\n\u001b[1;32m----> 3\u001b[0m          actual_test_prices, color\u001b[38;5;241m=\u001b[39m\u001b[38;5;124m'\u001b[39m\u001b[38;5;124mblue\u001b[39m\u001b[38;5;124m'\u001b[39m, label\u001b[38;5;241m=\u001b[39m\u001b[38;5;124m'\u001b[39m\u001b[38;5;124mActual Prices\u001b[39m\u001b[38;5;124m'\u001b[39m)\n\u001b[0;32m      4\u001b[0m plt\u001b[38;5;241m.\u001b[39mplot(stock_data\u001b[38;5;241m.\u001b[39mindex[\u001b[38;5;28mlen\u001b[39m(train_predict) \u001b[38;5;241m+\u001b[39m time_step:\u001b[38;5;28mlen\u001b[39m(train_predict) \u001b[38;5;241m+\u001b[39m time_step \u001b[38;5;241m+\u001b[39m \u001b[38;5;28mlen\u001b[39m(test_predict)],\n\u001b[0;32m      5\u001b[0m          test_predict, color\u001b[38;5;241m=\u001b[39m\u001b[38;5;124m'\u001b[39m\u001b[38;5;124mred\u001b[39m\u001b[38;5;124m'\u001b[39m, label\u001b[38;5;241m=\u001b[39m\u001b[38;5;124m'\u001b[39m\u001b[38;5;124mPredicted Prices\u001b[39m\u001b[38;5;124m'\u001b[39m)\n\u001b[0;32m      6\u001b[0m plt\u001b[38;5;241m.\u001b[39mtitle(\u001b[38;5;124mf\u001b[39m\u001b[38;5;124m'\u001b[39m\u001b[38;5;132;01m{\u001b[39;00mticker\u001b[38;5;132;01m}\u001b[39;00m\u001b[38;5;124m Stock Price Prediction\u001b[39m\u001b[38;5;124m'\u001b[39m)\n",
      "\u001b[1;31mNameError\u001b[0m: name 'actual_test_prices' is not defined"
     ]
    },
    {
     "data": {
      "text/plain": [
       "<Figure size 1200x600 with 0 Axes>"
      ]
     },
     "metadata": {},
     "output_type": "display_data"
    }
   ],
   "source": [
    "plt.figure(figsize=(12, 6))\n",
    "plt.plot(stock_data.index[len(train_predict) + time_step:len(train_predict) + time_step + len(test_predict)],\n",
    "         actual_test_prices, color='blue', label='Actual Prices')\n",
    "plt.plot(stock_data.index[len(train_predict) + time_step:len(train_predict) + time_step + len(test_predict)],\n",
    "         test_predict, color='red', label='Predicted Prices')\n",
    "plt.title(f'{ticker} Stock Price Prediction')\n",
    "plt.xlabel('Date')\n",
    "plt.ylabel('Stock Price (USD)')\n",
    "plt.legend()\n",
    "plt.show()"
   ]
  },
  {
   "cell_type": "code",
   "execution_count": null,
   "id": "3e2793b1-89b5-477f-a1ca-6e671a16465d",
   "metadata": {},
   "outputs": [],
   "source": []
  }
 ],
 "metadata": {
  "kernelspec": {
   "display_name": "Python 3 (ipykernel)",
   "language": "python",
   "name": "python3"
  },
  "language_info": {
   "codemirror_mode": {
    "name": "ipython",
    "version": 3
   },
   "file_extension": ".py",
   "mimetype": "text/x-python",
   "name": "python",
   "nbconvert_exporter": "python",
   "pygments_lexer": "ipython3",
   "version": "3.12.4"
  }
 },
 "nbformat": 4,
 "nbformat_minor": 5
}
