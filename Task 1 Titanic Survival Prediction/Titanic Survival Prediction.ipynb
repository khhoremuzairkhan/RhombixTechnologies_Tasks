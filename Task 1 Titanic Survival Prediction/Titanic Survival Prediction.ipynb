{
 "cells": [
  {
   "cell_type": "markdown",
   "id": "5e9f1df8-16a2-4abe-9575-d2bf3366474b",
   "metadata": {},
   "source": [
    "Link of the data set"
   ]
  },
  {
   "cell_type": "markdown",
   "id": "f98efef0-53b1-4f81-aa15-4be9137512a7",
   "metadata": {},
   "source": [
    "https://www.kaggle.com/datasets/yasserh/titanic-dataset/data"
   ]
  },
  {
   "cell_type": "code",
   "execution_count": null,
   "id": "b330e1e6-d122-45b6-80e8-f548a2947eed",
   "metadata": {},
   "outputs": [],
   "source": []
  }
 ],
 "metadata": {
  "kernelspec": {
   "display_name": "Python 3 (ipykernel)",
   "language": "python",
   "name": "python3"
  },
  "language_info": {
   "codemirror_mode": {
    "name": "ipython",
    "version": 3
   },
   "file_extension": ".py",
   "mimetype": "text/x-python",
   "name": "python",
   "nbconvert_exporter": "python",
   "pygments_lexer": "ipython3",
   "version": "3.12.4"
  }
 },
 "nbformat": 4,
 "nbformat_minor": 5
}
